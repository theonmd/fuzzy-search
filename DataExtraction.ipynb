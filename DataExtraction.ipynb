{
 "cells": [
  {
   "cell_type": "code",
   "metadata": {
    "cell_id": "4783c190b98c42e2bc82423ba0c2b6f5",
    "tags": [],
    "deepnote_to_be_reexecuted": false,
    "source_hash": "13ce641e",
    "execution_start": 1650249924320,
    "execution_millis": 14314,
    "deepnote_cell_type": "code",
    "deepnote_cell_height": 677.6875
   },
   "source": "!pip install sec_edgar_downloader==4.3.0",
   "execution_count": null,
   "outputs": [
    {
     "name": "stdout",
     "text": "Collecting sec_edgar_downloader==4.3.0\n  Downloading sec_edgar_downloader-4.3.0-py3-none-any.whl (13 kB)\nCollecting Faker\n  Downloading Faker-13.3.4-py3-none-any.whl (1.5 MB)\n\u001b[K     |████████████████████████████████| 1.5 MB 14.5 MB/s \n\u001b[?25hCollecting bs4\n  Downloading bs4-0.0.1.tar.gz (1.1 kB)\nRequirement already satisfied: requests in /shared-libs/python3.7/py/lib/python3.7/site-packages (from sec_edgar_downloader==4.3.0) (2.27.1)\nRequirement already satisfied: lxml in /shared-libs/python3.7/py/lib/python3.7/site-packages (from sec_edgar_downloader==4.3.0) (4.8.0)\nRequirement already satisfied: typing-extensions>=3.10.0.2; python_version < \"3.8\" in /shared-libs/python3.7/py-core/lib/python3.7/site-packages (from Faker->sec_edgar_downloader==4.3.0) (4.1.1)\nRequirement already satisfied: python-dateutil>=2.4 in /shared-libs/python3.7/py-core/lib/python3.7/site-packages (from Faker->sec_edgar_downloader==4.3.0) (2.8.2)\nRequirement already satisfied: beautifulsoup4 in /shared-libs/python3.7/py/lib/python3.7/site-packages (from bs4->sec_edgar_downloader==4.3.0) (4.10.0)\nRequirement already satisfied: urllib3<1.27,>=1.21.1 in /shared-libs/python3.7/py/lib/python3.7/site-packages (from requests->sec_edgar_downloader==4.3.0) (1.26.9)\nRequirement already satisfied: certifi>=2017.4.17 in /shared-libs/python3.7/py/lib/python3.7/site-packages (from requests->sec_edgar_downloader==4.3.0) (2021.10.8)\nRequirement already satisfied: idna<4,>=2.5; python_version >= \"3\" in /shared-libs/python3.7/py-core/lib/python3.7/site-packages (from requests->sec_edgar_downloader==4.3.0) (3.3)\nRequirement already satisfied: charset-normalizer~=2.0.0; python_version >= \"3\" in /shared-libs/python3.7/py-core/lib/python3.7/site-packages (from requests->sec_edgar_downloader==4.3.0) (2.0.12)\nRequirement already satisfied: six>=1.5 in /shared-libs/python3.7/py-core/lib/python3.7/site-packages (from python-dateutil>=2.4->Faker->sec_edgar_downloader==4.3.0) (1.16.0)\nRequirement already satisfied: soupsieve>1.2 in /shared-libs/python3.7/py/lib/python3.7/site-packages (from beautifulsoup4->bs4->sec_edgar_downloader==4.3.0) (2.3.1)\nBuilding wheels for collected packages: bs4\n  Building wheel for bs4 (setup.py) ... \u001b[?25ldone\n\u001b[?25h  Created wheel for bs4: filename=bs4-0.0.1-py3-none-any.whl size=1272 sha256=3ea7e4ab0a09c18485035636b9c188f65ea68b66b570e468667cc5204ea1043b\n  Stored in directory: /root/.cache/pip/wheels/0a/9e/ba/20e5bbc1afef3a491f0b3bb74d508f99403aabe76eda2167ca\nSuccessfully built bs4\nInstalling collected packages: Faker, bs4, sec-edgar-downloader\nSuccessfully installed Faker-13.3.4 bs4-0.0.1 sec-edgar-downloader-4.3.0\n\u001b[33mWARNING: You are using pip version 20.1.1; however, version 22.0.4 is available.\nYou should consider upgrading via the '/root/venv/bin/python -m pip install --upgrade pip' command.\u001b[0m\n",
     "output_type": "stream"
    }
   ]
  },
  {
   "cell_type": "code",
   "metadata": {
    "cell_id": "d4e5162ccb54477eb6ad80618f5bf351",
    "tags": [],
    "deepnote_to_be_reexecuted": false,
    "source_hash": "f9f5349f",
    "execution_start": 1650249942016,
    "execution_millis": 7229,
    "deepnote_cell_type": "code",
    "deepnote_cell_height": 287.1875
   },
   "source": "!pip install openpyxl \n",
   "execution_count": null,
   "outputs": [
    {
     "name": "stdout",
     "text": "Collecting openpyxl\n  Downloading openpyxl-3.0.9-py2.py3-none-any.whl (242 kB)\n\u001b[K     |████████████████████████████████| 242 kB 4.4 MB/s \n\u001b[?25hCollecting et-xmlfile\n  Downloading et_xmlfile-1.1.0-py3-none-any.whl (4.7 kB)\nInstalling collected packages: et-xmlfile, openpyxl\nSuccessfully installed et-xmlfile-1.1.0 openpyxl-3.0.9\n\u001b[33mWARNING: You are using pip version 20.1.1; however, version 22.0.4 is available.\nYou should consider upgrading via the '/root/venv/bin/python -m pip install --upgrade pip' command.\u001b[0m\n",
     "output_type": "stream"
    }
   ]
  },
  {
   "cell_type": "code",
   "metadata": {
    "tags": [],
    "cell_id": "b55c5b91-5b10-491b-8f5b-a9ab17214fd3",
    "deepnote_to_be_reexecuted": false,
    "source_hash": "5c20dfd6",
    "execution_start": 1650249955674,
    "execution_millis": 482,
    "deepnote_cell_type": "code",
    "deepnote_cell_height": 225
   },
   "source": "import pandas as pd\nimport numpy as np\nimport os\nfrom sec_edgar_downloader import Downloader\nimport requests\nimport shutil\nfrom bs4 import BeautifulSoup\nimport string\nimport random",
   "execution_count": null,
   "outputs": []
  },
  {
   "cell_type": "code",
   "metadata": {
    "cell_id": "5c4e34fdd53d482d99365b079c4084f0",
    "tags": [],
    "deepnote_to_be_reexecuted": false,
    "source_hash": "e32c6809",
    "execution_start": 1649990101854,
    "execution_millis": 3,
    "deepnote_cell_type": "code",
    "deepnote_cell_height": 657
   },
   "source": "def files_downloader(file_type, comp_code, n):\n    '''\n    Function that takes as an input a company code (stock exchange code), a file type and a number of files to download\n    Downloads all the corresponding files and stores them in the correct folder\n    '''\n    comp_path = './data/{comp}'.format(comp = comp_code)\n    comp_raw_path = './data/{comp}/raw'.format(comp = comp_code)\n\n    if not os.path.isdir(comp_path):\n        os.makedirs(comp_path)\n        \n        if not os.path.isdir(comp_raw_path):\n            os.makedirs(comp_raw_path)\n\n    dl = Downloader(comp_raw_path)\n    dl.get(file_type, comp_code, amount = n)\n\n    # Get all the folders in the created folder\n    files_path = os.path.join(comp_raw_path, 'sec-edgar-filings', comp_code, file_type)\n    subf_list = [os.path.join(files_path, folder) for folder in os.listdir(files_path)]\n\n    # Get all the final files\n    final_files_list = [os.path.join(files_path, folder, 'full-submission.txt') for folder in os.listdir(files_path)]\n    years_list = [folder.split('-')[1] for folder in os.listdir(files_path)]\n\n    # Rename and move all the final files\n    for i in range(len(final_files_list)):\n        f_new_name = '{comp}_{year}.txt'.format(comp=comp_code, year=years_list[i])\n        os.replace(final_files_list[i], './data/{comp}/raw/{f}'.format(comp=comp_code, f=f_new_name))\n    \n    # Delete the useless folders\n    shutil.rmtree('./data/{comp}/raw/sec-edgar-filings'.format(comp=comp_code))\n",
   "execution_count": null,
   "outputs": []
  },
  {
   "cell_type": "code",
   "metadata": {
    "cell_id": "f5f5b8ac45924deeabc586e22beb3c29",
    "tags": [],
    "deepnote_to_be_reexecuted": false,
    "source_hash": "f6852744",
    "execution_start": 1649990101869,
    "execution_millis": 81278217,
    "deepnote_cell_type": "code",
    "deepnote_cell_height": 99
   },
   "source": "# Download the years 2010-2022 10-k files from Apple\n#files_downloader(\"10-K\", \"AAPL\", n = 12)",
   "execution_count": null,
   "outputs": []
  },
  {
   "cell_type": "code",
   "metadata": {
    "cell_id": "a7638f45206b40daab44744707d02cd9",
    "tags": [],
    "deepnote_to_be_reexecuted": false,
    "source_hash": "8808d9b3",
    "execution_start": 1649990101873,
    "execution_millis": 46,
    "deepnote_cell_type": "code",
    "deepnote_cell_height": 99
   },
   "source": "# Download the years 2010-2022 10-k files from Tesla\n#files_downloader(\"10-K\", \"TSLA\", n = 12)",
   "execution_count": null,
   "outputs": []
  },
  {
   "cell_type": "code",
   "metadata": {
    "cell_id": "b743749e6aa44fb4b02da49e90cb2725",
    "tags": [],
    "deepnote_to_be_reexecuted": false,
    "source_hash": "504b7b8c",
    "execution_start": 1649990101919,
    "execution_millis": 0,
    "deepnote_cell_type": "code",
    "deepnote_cell_height": 99
   },
   "source": "# Download the years 2010-2022 10-k files from Agilent\n#files_downloader(\"10-K\", \"A\", n = 12)",
   "execution_count": null,
   "outputs": []
  },
  {
   "cell_type": "markdown",
   "source": "https://sec-edgar-downloader.readthedocs.io/en/latest/\n\nhttps://www.sec.gov/os/accessing-edgar-data This is where i got json file with company codes (aka tickers)\n\nNOTE: Converted JSON to Excel file using this website: https://www.convertcsv.com/json-to-csv.htm",
   "metadata": {
    "cell_id": "922c9203725a472c850ff043c91fb22e",
    "tags": [],
    "deepnote_cell_type": "markdown",
    "deepnote_cell_height": 169.9375
   }
  },
  {
   "cell_type": "code",
   "metadata": {
    "cell_id": "d856171b82b34db7a55391dc2d732c89",
    "tags": [],
    "deepnote_to_be_reexecuted": false,
    "source_hash": "fc62be1f",
    "execution_start": 1649990101920,
    "execution_millis": 1665,
    "deepnote_cell_type": "code",
    "deepnote_cell_height": 171
   },
   "source": "# Extract ticker/company code from Edgar SEC.Gov excel sheet (updated still in 2022)\n# removed \"-*\" in excel before uploading to notebook. Include in write up\ndata = pd.read_excel (r'/work/company_tickers.xlsx', sheet_name='Sheet 2') #place \"r\" before the path string to address special character, such as '\\'. Don't forget to put the file name at the end of the path + '.xlsx'\ndf = pd.DataFrame(data, columns= ['ticker'])\n#print (df)\n",
   "execution_count": null,
   "outputs": []
  },
  {
   "cell_type": "code",
   "metadata": {
    "cell_id": "285884a1689b4e2fb9fb61640cb106be",
    "tags": [],
    "deepnote_to_be_reexecuted": false,
    "source_hash": "2f7e6d02",
    "execution_start": 1649990103602,
    "execution_millis": 55,
    "deepnote_cell_type": "code",
    "deepnote_cell_height": 636
   },
   "source": "pick20 = df.sample(n=20)\npick20\n",
   "execution_count": null,
   "outputs": [
    {
     "output_type": "execute_result",
     "execution_count": 9,
     "data": {
      "application/vnd.deepnote.dataframe.v3+json": {
       "column_count": 1,
       "row_count": 20,
       "columns": [
        {
         "name": "ticker",
         "dtype": "object",
         "stats": {
          "unique_count": 20,
          "nan_count": 0,
          "categories": [
           {
            "name": "BOLT",
            "count": 1
           },
           {
            "name": "DMAQ",
            "count": 1
           },
           {
            "name": "18 others",
            "count": 18
           }
          ]
         }
        },
        {
         "name": "_deepnote_index_column",
         "dtype": "int64"
        }
       ],
       "rows": [
        {
         "ticker": "BOLT",
         "_deepnote_index_column": 1689
        },
        {
         "ticker": "DMAQ",
         "_deepnote_index_column": 3201
        },
        {
         "ticker": "CRLBF",
         "_deepnote_index_column": 2748
        },
        {
         "ticker": "KOSCF",
         "_deepnote_index_column": 6314
        },
        {
         "ticker": "TALK",
         "_deepnote_index_column": 10540
        },
        {
         "ticker": "OIBZQ",
         "_deepnote_index_column": 8075
        },
        {
         "ticker": "TRLFF",
         "_deepnote_index_column": 10942
        },
        {
         "ticker": "RCACW",
         "_deepnote_index_column": 9152
        },
        {
         "ticker": "MQ",
         "_deepnote_index_column": 7274
        },
        {
         "ticker": "SMBK",
         "_deepnote_index_column": 10049
        }
       ]
      },
      "text/plain": "      ticker\n1689    BOLT\n3201    DMAQ\n2748   CRLBF\n6314   KOSCF\n10540   TALK\n8075   OIBZQ\n10942  TRLFF\n9152   RCACW\n7274      MQ\n10049   SMBK\n3777    ESSI\n10423   SUND\n1079    AURI\n6179    KALV\n4551     GCC\n3637    ENPC\n10345   STCC\n6096      JP\n3276   DRCTW\n11682   WATT",
      "text/html": "<div>\n<style scoped>\n    .dataframe tbody tr th:only-of-type {\n        vertical-align: middle;\n    }\n\n    .dataframe tbody tr th {\n        vertical-align: top;\n    }\n\n    .dataframe thead th {\n        text-align: right;\n    }\n</style>\n<table border=\"1\" class=\"dataframe\">\n  <thead>\n    <tr style=\"text-align: right;\">\n      <th></th>\n      <th>ticker</th>\n    </tr>\n  </thead>\n  <tbody>\n    <tr>\n      <th>1689</th>\n      <td>BOLT</td>\n    </tr>\n    <tr>\n      <th>3201</th>\n      <td>DMAQ</td>\n    </tr>\n    <tr>\n      <th>2748</th>\n      <td>CRLBF</td>\n    </tr>\n    <tr>\n      <th>6314</th>\n      <td>KOSCF</td>\n    </tr>\n    <tr>\n      <th>10540</th>\n      <td>TALK</td>\n    </tr>\n    <tr>\n      <th>8075</th>\n      <td>OIBZQ</td>\n    </tr>\n    <tr>\n      <th>10942</th>\n      <td>TRLFF</td>\n    </tr>\n    <tr>\n      <th>9152</th>\n      <td>RCACW</td>\n    </tr>\n    <tr>\n      <th>7274</th>\n      <td>MQ</td>\n    </tr>\n    <tr>\n      <th>10049</th>\n      <td>SMBK</td>\n    </tr>\n    <tr>\n      <th>3777</th>\n      <td>ESSI</td>\n    </tr>\n    <tr>\n      <th>10423</th>\n      <td>SUND</td>\n    </tr>\n    <tr>\n      <th>1079</th>\n      <td>AURI</td>\n    </tr>\n    <tr>\n      <th>6179</th>\n      <td>KALV</td>\n    </tr>\n    <tr>\n      <th>4551</th>\n      <td>GCC</td>\n    </tr>\n    <tr>\n      <th>3637</th>\n      <td>ENPC</td>\n    </tr>\n    <tr>\n      <th>10345</th>\n      <td>STCC</td>\n    </tr>\n    <tr>\n      <th>6096</th>\n      <td>JP</td>\n    </tr>\n    <tr>\n      <th>3276</th>\n      <td>DRCTW</td>\n    </tr>\n    <tr>\n      <th>11682</th>\n      <td>WATT</td>\n    </tr>\n  </tbody>\n</table>\n</div>"
     },
     "metadata": {}
    }
   ]
  },
  {
   "cell_type": "code",
   "metadata": {
    "cell_id": "22f54d2db09a47deb004a90713dab563",
    "tags": [],
    "deepnote_to_be_reexecuted": false,
    "source_hash": "590cd022",
    "execution_start": 1649990103655,
    "execution_millis": 3,
    "deepnote_cell_type": "code",
    "deepnote_cell_height": 241.625
   },
   "source": "comp_codes = pick20.values.tolist()\n#print(comp_codes)\nflattened = []\nfor sublist in comp_codes:\n    for val in sublist:\n        flattened.append(val)\n\nprint(flattened)",
   "execution_count": null,
   "outputs": [
    {
     "name": "stdout",
     "text": "['BOLT', 'DMAQ', 'CRLBF', 'KOSCF', 'TALK', 'OIBZQ', 'TRLFF', 'RCACW', 'MQ', 'SMBK', 'ESSI', 'SUND', 'AURI', 'KALV', 'GCC', 'ENPC', 'STCC', 'JP', 'DRCTW', 'WATT']\n",
     "output_type": "stream"
    }
   ]
  },
  {
   "cell_type": "code",
   "metadata": {
    "cell_id": "a749d971d18143faaf41b9a720adaedf",
    "tags": [],
    "deepnote_to_be_reexecuted": false,
    "source_hash": "1bb9fa92",
    "execution_start": 1649990103656,
    "execution_millis": 228690,
    "deepnote_cell_type": "code",
    "deepnote_cell_height": 315.15625
   },
   "source": "for c in flattened:\n    try:\n        files_downloader(\"10-K\", c, n=12)  # CHANGE HERE IF DESIRED \n    except(FileNotFoundError):\n        print(\"Item Not Found %s\" % c)\n        continue\n    ",
   "execution_count": null,
   "outputs": [
    {
     "name": "stdout",
     "text": "Item Not Found DMAQ\nItem Not Found CRLBF\nItem Not Found KOSCF\nItem Not Found OIBZQ\nItem Not Found TRLFF\nItem Not Found AURI\n",
     "output_type": "stream"
    }
   ]
  },
  {
   "cell_type": "code",
   "metadata": {
    "cell_id": "8b24f0dc902d40ca94e37285d2c9d6a0",
    "tags": [],
    "deepnote_to_be_reexecuted": false,
    "source_hash": "cd96f81",
    "execution_start": 1649990332350,
    "execution_millis": 0,
    "deepnote_cell_type": "code",
    "deepnote_cell_height": 81
   },
   "source": "#files_downloader(\"10-K\",\"ECF\",n=2)",
   "execution_count": null,
   "outputs": []
  },
  {
   "cell_type": "code",
   "metadata": {
    "cell_id": "e169c400132d4ecbb8fe3da7092b4d43",
    "tags": [],
    "deepnote_to_be_reexecuted": false,
    "source_hash": "4d8fa0a3",
    "execution_start": 1650250040143,
    "execution_millis": 24,
    "deepnote_cell_type": "code",
    "deepnote_cell_height": 621
   },
   "source": "def alltxt():\n    directory = os.listdir('./data') #list of comp names\n    allfiles = open(\"allfiles.txt\", \"a\") #empty file to write\n\n    table = str.maketrans('', '', string.punctuation)\n\n    for comp_name in directory: #iterate through list of comp names\n        if len(os.listdir(\"./data/{0}/raw\".format(comp_name))) == 0:\n            continue\n        txt_file = random.choice(os.listdir(\"./data/{0}/raw\".format(comp_name)))\n        print('Start cleaning: ' + txt_file)\n        current_file = open(\"./data/{0}/raw/{1}\".format(comp_name,txt_file),\"r\")\n        curr_text = current_file.read()\n        current_file.close()\n        curr_text = curr_text.lower()\n\n        soup = BeautifulSoup(curr_text, \"html.parser\")\n        lines = [x.get_text() for x in soup.find_all(\"p\")]\n        lines = [line.replace(u'\\xa0', u' ').replace('\\n', ' ') for line in lines]\n        lines = [l.replace('☒','').replace('☐','').replace('•','').replace('“','').replace('”','').replace('’s','') for l in lines]\n        lines = [l for l in lines if len(l.split()) > 1]\n        \n        stripped = [w.translate(table) for w in lines]\n\n        allfiles.writelines([line + '\\n' for line in stripped])\n        print('Finished. Got ' + str(len(lines)) + ' lines.')\n\n\n    allfiles.close()\n#/work/data/EDUC/raw/{TEXTFILE}.txt.format(TEXTFILE = )\n",
   "execution_count": null,
   "outputs": []
  },
  {
   "cell_type": "code",
   "metadata": {
    "cell_id": "ff31dc0d748143469b04b1a807e10c99",
    "tags": [],
    "deepnote_to_be_reexecuted": false,
    "source_hash": "1abc0a63",
    "execution_start": 1650250043876,
    "execution_millis": 59978,
    "owner_user_id": "7b1de2ab-8498-4fc5-9964-81776db9e172",
    "deepnote_cell_type": "code",
    "deepnote_cell_height": 629.4375
   },
   "source": "alltxt()",
   "execution_count": null,
   "outputs": [
    {
     "name": "stdout",
     "text": "Start cleaning: STCC_13.txt\nFinished. Got 488 lines.\nStart cleaning: ENPC_22.txt\nFinished. Got 659 lines.\nStart cleaning: KALV_16.txt\nFinished. Got 1603 lines.\nStart cleaning: GCC_08.txt\nFinished. Got 137 lines.\nStart cleaning: MQ_06.txt\nFinished. Got 2288 lines.\nStart cleaning: SMBK_16.txt\nFinished. Got 935 lines.\nStart cleaning: WATT_22.txt\nFinished. Got 986 lines.\nStart cleaning: DRCTW_22.txt\nFinished. Got 939 lines.\nStart cleaning: SUND_15.txt\nFinished. Got 1444 lines.\nStart cleaning: TALK_15.txt\nFinished. Got 880 lines.\nStart cleaning: ESSI_16.txt\nFinished. Got 0 lines.\nStart cleaning: RCACW_22.txt\nFinished. Got 1781 lines.\nStart cleaning: JP_15.txt\nFinished. Got 2769 lines.\nStart cleaning: BOLT_05.txt\nFinished. Got 655 lines.\n",
     "output_type": "stream"
    }
   ]
  },
  {
   "cell_type": "markdown",
   "source": "<a style='text-decoration:none;line-height:16px;display:flex;color:#5B5B62;padding:10px;justify-content:end;' href='https://deepnote.com?utm_source=created-in-deepnote-cell&projectId=62207f3c-7a44-4ad3-8df6-07126844dae3' target=\"_blank\">\n<img alt='Created in deepnote.com' style='display:inline;max-height:16px;margin:0px;margin-right:7.5px;' src='data:image/svg+xml;base64,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' > </img>\nCreated in <span style='font-weight:600;margin-left:4px;'>Deepnote</span></a>",
   "metadata": {
    "tags": [],
    "created_in_deepnote_cell": true,
    "deepnote_cell_type": "markdown"
   }
  }
 ],
 "nbformat": 4,
 "nbformat_minor": 2,
 "metadata": {
  "orig_nbformat": 2,
  "deepnote": {
   "is_reactive": false
  },
  "deepnote_notebook_id": "b4aca755-32e5-449e-953a-8fe37ac669ff",
  "deepnote_execution_queue": []
 }
}